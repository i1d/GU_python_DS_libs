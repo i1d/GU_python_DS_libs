{
 "cells": [
  {
   "cell_type": "markdown",
   "metadata": {},
   "source": [
    "1. Создать одномерный массив Numpy под названием a из 12 последовательных целых чисел чисел от 12 до 24 невключительно"
   ]
  },
  {
   "cell_type": "code",
   "execution_count": 1,
   "metadata": {},
   "outputs": [
    {
     "data": {
      "text/plain": [
       "array([12, 13, 14, 15, 16, 17, 18, 19, 20, 21, 22, 23])"
      ]
     },
     "execution_count": 1,
     "metadata": {},
     "output_type": "execute_result"
    }
   ],
   "source": [
    "import numpy as np\n",
    "\n",
    "a = np.arange(12, 24)\n",
    "a"
   ]
  },
  {
   "cell_type": "markdown",
   "metadata": {},
   "source": [
    "2. Создать 5 двумерных массивов разной формы из массива a. Не использовать в аргументах метода reshape число -1."
   ]
  },
  {
   "cell_type": "code",
   "execution_count": 2,
   "metadata": {},
   "outputs": [
    {
     "name": "stdout",
     "output_type": "stream",
     "text": [
      "a1=[[12 13 14 15 16 17]\n",
      " [18 19 20 21 22 23]]\n",
      "a2=[[12 13 14 15]\n",
      " [16 17 18 19]\n",
      " [20 21 22 23]]\n",
      "a3=[[12 13 14]\n",
      " [15 16 17]\n",
      " [18 19 20]\n",
      " [21 22 23]]\n",
      "a4=[[12 13]\n",
      " [14 15]\n",
      " [16 17]\n",
      " [18 19]\n",
      " [20 21]\n",
      " [22 23]]\n",
      "a5=[[12]\n",
      " [13]\n",
      " [14]\n",
      " [15]\n",
      " [16]\n",
      " [17]\n",
      " [18]\n",
      " [19]\n",
      " [20]\n",
      " [21]\n",
      " [22]\n",
      " [23]]\n"
     ]
    }
   ],
   "source": [
    "a1 = a.reshape(2, 6)\n",
    "print(f'a1={a1}')\n",
    "\n",
    "a2 = a.reshape(3, 4)\n",
    "print(f'a2={a2}')\n",
    "\n",
    "a3 = a.reshape(4, 3)\n",
    "print(f'a3={a3}')\n",
    "\n",
    "a4 = a.reshape(6, 2)\n",
    "print(f'a4={a4}')\n",
    "\n",
    "a5 = a.reshape(12, 1)\n",
    "print(f'a5={a5}')"
   ]
  },
  {
   "cell_type": "markdown",
   "metadata": {},
   "source": [
    "3. Создать 5 двумерных массивов разной формы из массива a. Использовать в аргументах метода reshape число -1 (в трех примерах - для обозначения числа столбцов, в двух - для строк)."
   ]
  },
  {
   "cell_type": "code",
   "execution_count": 3,
   "metadata": {},
   "outputs": [
    {
     "name": "stdout",
     "output_type": "stream",
     "text": [
      "a11=[[12 13 14 15 16 17]\n",
      " [18 19 20 21 22 23]]\n",
      "a22=[[12 13 14 15]\n",
      " [16 17 18 19]\n",
      " [20 21 22 23]]\n",
      "a33=[[12 13 14]\n",
      " [15 16 17]\n",
      " [18 19 20]\n",
      " [21 22 23]]\n",
      "a44=[[12 13]\n",
      " [14 15]\n",
      " [16 17]\n",
      " [18 19]\n",
      " [20 21]\n",
      " [22 23]]\n",
      "a55=[[12]\n",
      " [13]\n",
      " [14]\n",
      " [15]\n",
      " [16]\n",
      " [17]\n",
      " [18]\n",
      " [19]\n",
      " [20]\n",
      " [21]\n",
      " [22]\n",
      " [23]]\n"
     ]
    }
   ],
   "source": [
    "a11 = a.reshape(2, -1)\n",
    "print(f'a11={a11}')\n",
    "\n",
    "a22 = a.reshape(3, -1)\n",
    "print(f'a22={a22}')\n",
    "\n",
    "a33 = a.reshape(4, -1)\n",
    "print(f'a33={a33}')\n",
    "\n",
    "a44 = a.reshape(-1, 2)\n",
    "print(f'a44={a44}')\n",
    "\n",
    "a55 = a.reshape(-1, 1)\n",
    "print(f'a55={a55}')"
   ]
  },
  {
   "cell_type": "markdown",
   "metadata": {},
   "source": [
    "4. Можно ли массив Numpy, состоящий из одного столбца и 12 строк, назвать одномерным?"
   ]
  },
  {
   "cell_type": "code",
   "execution_count": 4,
   "metadata": {
    "scrolled": true
   },
   "outputs": [
    {
     "name": "stdout",
     "output_type": "stream",
     "text": [
      "Нельзя, с точки зрения numpy, a55=[[12]\n",
      " [13]\n",
      " [14]\n",
      " [15]\n",
      " [16]\n",
      " [17]\n",
      " [18]\n",
      " [19]\n",
      " [20]\n",
      " [21]\n",
      " [22]\n",
      " [23]] - это 2-мерный массив.\n"
     ]
    }
   ],
   "source": [
    "print(f'Да, можно.' if a55.ndim == 1 else f'Нельзя, с точки зрения numpy, a55={a55} - это {a55.ndim}-мерный массив.')"
   ]
  },
  {
   "cell_type": "markdown",
   "metadata": {},
   "source": [
    "5. Создать массив из 3 строк и 4 столбцов, состоящий из случайных чисел с плавающей запятой из нормального распределения со средним, равным 0 и среднеквадратичным отклонением, равным 1.0. Получить из этого массива одномерный массив с таким же атрибутом size, как и исходный массив."
   ]
  },
  {
   "cell_type": "code",
   "execution_count": 5,
   "metadata": {},
   "outputs": [
    {
     "name": "stdout",
     "output_type": "stream",
     "text": [
      "[-1.33756165 -0.26030088  0.0474178  -1.11427994  1.01870444 -0.24125927\n",
      " -1.2101007   0.19015558 -1.17380025  0.30301287  1.39728496  0.16083293]\n",
      "Sizes are equal\n"
     ]
    }
   ],
   "source": [
    "a = np.random.randn(3, 4)\n",
    "a_fl = a.flatten()\n",
    "print(a_fl)\n",
    "print(f'Sizes are equal' if np.size(a) == np.size(a_fl) else f'Sizes are not equal')"
   ]
  },
  {
   "cell_type": "markdown",
   "metadata": {},
   "source": [
    "6. Создать массив a, состоящий из целых чисел, убывающих от 20 до 0 невключительно с интервалом 2."
   ]
  },
  {
   "cell_type": "code",
   "execution_count": 6,
   "metadata": {},
   "outputs": [
    {
     "data": {
      "text/plain": [
       "array([20, 18, 16, 14, 12, 10,  8,  6,  4,  2])"
      ]
     },
     "execution_count": 6,
     "metadata": {},
     "output_type": "execute_result"
    }
   ],
   "source": [
    "a = np.arange(20, 0, -2)\n",
    "a"
   ]
  },
  {
   "cell_type": "markdown",
   "metadata": {},
   "source": [
    "7. Создать массив b, состоящий из 1 строки и 10 столбцов: целых чисел, убывающих от 20 до 1 невключительно с интервалом 2. В чем разница между массивами a и b?"
   ]
  },
  {
   "cell_type": "code",
   "execution_count": 7,
   "metadata": {},
   "outputs": [
    {
     "name": "stdout",
     "output_type": "stream",
     "text": [
      "[[20 18 16 14 12 10  8  6  4  2]]\n",
      "dim(a) = 1; dim(b) = 2\n"
     ]
    }
   ],
   "source": [
    "s = np.arange(20, 1, -2)\n",
    "b = s.reshape(1, -1)\n",
    "print(b)\n",
    "\n",
    "print(f'dim(a) = {a.ndim}; dim(b) = {b.ndim}')"
   ]
  },
  {
   "cell_type": "markdown",
   "metadata": {},
   "source": [
    "8. Вертикально соединить массивы a и b. a - двумерный массив из нулей, число строк которого больше 1 и на 1 меньше, чем число строк двумерного массива b, состоящего из единиц. Итоговый массив v должен иметь атрибут size, равный 10."
   ]
  },
  {
   "cell_type": "code",
   "execution_count": 8,
   "metadata": {},
   "outputs": [
    {
     "name": "stdout",
     "output_type": "stream",
     "text": [
      "a = [[0. 0.]\n",
      " [0. 0.]]\n",
      "b = [[1. 1.]\n",
      " [1. 1.]\n",
      " [1. 1.]]\n",
      "v = [[0. 0.]\n",
      " [0. 0.]\n",
      " [1. 1.]\n",
      " [1. 1.]\n",
      " [1. 1.]]\n",
      "v'size = 10\n"
     ]
    }
   ],
   "source": [
    "a = np.zeros((2, 2))\n",
    "print(f'a = {a}')\n",
    "\n",
    "b = np.ones((3, 2))\n",
    "print(f'b = {b}')\n",
    "\n",
    "v = np.vstack((a, b))\n",
    "print(f'v = {v}')\n",
    "print(f\"v'size = {np.size(v)}\")"
   ]
  },
  {
   "cell_type": "markdown",
   "metadata": {},
   "source": [
    "9. Создать одномерный массив а, состоящий из последовательности целых чисел от 0 до 12. Поменять форму этого массива, чтобы получилась матрица A (двумерный массив Numpy), состоящая из 4 строк и 3 столбцов. Получить матрицу At путем транспонирования матрицы A. Получить матрицу B, умножив матрицу A на матрицу At с помощью матричного умножения. Какой размер имеет матрица B? Получится ли вычислить обратную матрицу для матрицы B и почему?"
   ]
  },
  {
   "cell_type": "code",
   "execution_count": 9,
   "metadata": {},
   "outputs": [
    {
     "name": "stdout",
     "output_type": "stream",
     "text": [
      "[[  5  14  23  32]\n",
      " [ 14  50  86 122]\n",
      " [ 23  86 149 212]\n",
      " [ 32 122 212 302]]\n",
      "B - 2-мерная матрица размера (4, 4).\n",
      "Обратную матрицу к В вычислить нельзя, т.к. определитель В = 0.\n"
     ]
    }
   ],
   "source": [
    "a = np.arange(0, 12)\n",
    "A = a.reshape(4, 3)\n",
    "At = A.transpose()\n",
    "B = np.dot(A, At)\n",
    "print(B)\n",
    "\n",
    "d = int(np.linalg.det(B))\n",
    "\n",
    "print(f'B - {B.ndim}-мерная матрица размера {B.shape}.')\n",
    "print(f'Обратную матрицу к В вычислить нельзя, т.к. определитель В = {d}.' if d == 0 \n",
    "      else f'Обратную матрицу можно посчитать, т.к. определитель В = {d} (а не 0).')"
   ]
  },
  {
   "cell_type": "markdown",
   "metadata": {},
   "source": [
    "10. Инициализируйте генератор случайных числе с помощью объекта seed, равного 42."
   ]
  },
  {
   "cell_type": "code",
   "execution_count": 10,
   "metadata": {},
   "outputs": [],
   "source": [
    "np.random.seed(42)"
   ]
  },
  {
   "cell_type": "markdown",
   "metadata": {},
   "source": [
    "11. Создайте одномерный массив c, составленный из последовательности 16-ти случайных равномерно распределенных целых чисел от 0 до 16 невключительно. "
   ]
  },
  {
   "cell_type": "code",
   "execution_count": 11,
   "metadata": {},
   "outputs": [
    {
     "name": "stdout",
     "output_type": "stream",
     "text": [
      "[ 6  3 12 14 10  7 12  4  6  9  2  6 10 10  7  4]\n"
     ]
    }
   ],
   "source": [
    "c = np.random.randint(0, 16, size=16)\n",
    "print(c)"
   ]
  },
  {
   "cell_type": "markdown",
   "metadata": {},
   "source": [
    "12. Поменяйте его форму так, чтобы получилась квадратная матрица C. Получите матрицу D, поэлементно прибавив матрицу B из предыдущего вопроса к матрице C, умноженной на 10. Вычислите определитель, ранг и обратную матрицу D_inv для D."
   ]
  },
  {
   "cell_type": "code",
   "execution_count": 12,
   "metadata": {},
   "outputs": [
    {
     "name": "stdout",
     "output_type": "stream",
     "text": [
      "D = [[ 65  44 143 172]\n",
      " [114 120 206 162]\n",
      " [ 83 176 169 272]\n",
      " [132 222 282 342]]\n",
      "Определитель D = -28511999\n",
      "Ранг D = 4\n",
      "D_inv = [[ 0.00935396  0.04486532  0.05897517 -0.07286055]\n",
      " [-0.01503577 -0.00122896 -0.00192971  0.00967873]\n",
      " [-0.00356692 -0.01782828 -0.04152146  0.04326178]\n",
      " [ 0.00909091 -0.00181818  0.01272727 -0.01090909]]\n"
     ]
    }
   ],
   "source": [
    "C = c.reshape(4, 4)\n",
    "C = C * 10\n",
    "D = C + B\n",
    "\n",
    "d = int(np.linalg.det(D))\n",
    "r = np.linalg.matrix_rank(D)\n",
    "if d != 0:\n",
    "    D_inv = np.linalg.inv(D)\n",
    "    print(f'D = {D}')\n",
    "    print(f'Определитель D = {d}')\n",
    "    print(f'Ранг D = {r}')\n",
    "    print(f'D_inv = {D_inv}')\n",
    "else:\n",
    "    print(f'D = {D}')\n",
    "    print(f'Обратную матрицу к D вычислить нельзя, т.к. определитель D = {d}. Ранг D = {r}.')"
   ]
  },
  {
   "cell_type": "markdown",
   "metadata": {},
   "source": [
    "13. Приравняйте к нулю отрицательные числа в матрице D_inv, а положительные - к единице. Убедитесь, что в матрице D_inv остались только нули и единицы. С помощью функции numpy.where, используя матрицу D_inv в качестве маски, а матрицы B и C - в качестве источников данных, получите матрицу E размером 4x4.  Элементы матрицы E, для которых соответствующий элемент матрицы D_inv равен 1, должны быть равны соответствующему элементу матрицы B, а элементы матрицы E, для которых соответствующий элемент матрицы D_inv равен 0, должны быть равны соответствующему элементу матрицы C."
   ]
  },
  {
   "cell_type": "code",
   "execution_count": 13,
   "metadata": {},
   "outputs": [
    {
     "name": "stdout",
     "output_type": "stream",
     "text": [
      "D_inv(mask) = [[1. 1. 1. 0.]\n",
      " [0. 0. 0. 1.]\n",
      " [0. 0. 0. 1.]\n",
      " [1. 0. 1. 0.]]\n",
      "\n",
      "B = [[  5  14  23  32]\n",
      " [ 14  50  86 122]\n",
      " [ 23  86 149 212]\n",
      " [ 32 122 212 302]]\n",
      "C = [[ 60  30 120 140]\n",
      " [100  70 120  40]\n",
      " [ 60  90  20  60]\n",
      " [100 100  70  40]]\n",
      "\n",
      "E = [[  5  14  23 140]\n",
      " [100  70 120 122]\n",
      " [ 60  90  20 212]\n",
      " [ 32 100 212  40]]\n"
     ]
    }
   ],
   "source": [
    "D_inv[D_inv < 0] = 0\n",
    "D_inv[D_inv > 0] = 1\n",
    "print(f'D_inv(mask) = {D_inv}\\n')\n",
    "\n",
    "print(f'B = {B}')\n",
    "print(f'C = {C}\\n')\n",
    "\n",
    "E = np.where(D_inv == 1, B, C)\n",
    "print(f'E = {E}')"
   ]
  }
 ],
 "metadata": {
  "kernelspec": {
   "display_name": "Python 3",
   "language": "python",
   "name": "python3"
  },
  "language_info": {
   "codemirror_mode": {
    "name": "ipython",
    "version": 3
   },
   "file_extension": ".py",
   "mimetype": "text/x-python",
   "name": "python",
   "nbconvert_exporter": "python",
   "pygments_lexer": "ipython3",
   "version": "3.8.5"
  }
 },
 "nbformat": 4,
 "nbformat_minor": 4
}
